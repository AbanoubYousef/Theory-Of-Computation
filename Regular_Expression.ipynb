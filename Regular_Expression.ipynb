{
 "cells": [
  {
   "cell_type": "code",
   "execution_count": 1,
   "metadata": {},
   "outputs": [],
   "source": [
    "import rstr\n",
    "import re"
   ]
  },
  {
   "cell_type": "code",
   "execution_count": 2,
   "metadata": {},
   "outputs": [
    {
     "name": "stdout",
     "output_type": "stream",
     "text": [
      "Enter regex :\n",
      "a*|b\n",
      "Examples for regex :\n",
      " b\n",
      "Do you want to check specific string acceptance :Enter Y :\n",
      "y\n",
      "Enter string :\n",
      "aa\n",
      "accepted\n"
     ]
    }
   ],
   "source": [
    "regex=input(\"Enter regex :\\n\")\n",
    "\n",
    "print(\"Examples for regex :\\n\",rstr.xeger(regex))\n",
    "\n",
    "check=input(\"Do you want to check specific string acceptance :Enter Y :\\n\")\n",
    "\n",
    "if check =='y' or check=='Y':\n",
    "        string=input(\"Enter string :\\n\")\n",
    "        if re.fullmatch(regex,string):\n",
    "            print(\"accepted\")\n",
    "        else:\n",
    "            print (\"not accepted\")\n",
    "            "
   ]
  },
  {
   "cell_type": "code",
   "execution_count": null,
   "metadata": {},
   "outputs": [],
   "source": []
  }
 ],
 "metadata": {
  "kernelspec": {
   "display_name": "Python 3",
   "language": "python",
   "name": "python3"
  },
  "language_info": {
   "codemirror_mode": {
    "name": "ipython",
    "version": 3
   },
   "file_extension": ".py",
   "mimetype": "text/x-python",
   "name": "python",
   "nbconvert_exporter": "python",
   "pygments_lexer": "ipython3",
   "version": "3.7.4"
  }
 },
 "nbformat": 4,
 "nbformat_minor": 2
}
