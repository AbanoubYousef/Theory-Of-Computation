{
 "cells": [
  {
   "cell_type": "code",
   "execution_count": 3,
   "metadata": {},
   "outputs": [],
   "source": [
    "import rstr\n",
    "import re"
   ]
  },
  {
   "cell_type": "code",
   "execution_count": null,
   "metadata": {},
   "outputs": [],
   "source": [
    "regex=input(\"Enter regex :\\n\")\n",
    "\n",
    "print(\"Examples for regex :\\n\",rstr.xeger(regex))\n",
    "\n",
    "check=input(\"Do you want to check specific string acceptance :Enter Y :\\n\")\n",
    "\n",
    "if check =='y' or check=='Y':\n",
    "        string=input(\"Enter string :\\n\")\n",
    "        if re.fullmatch(regex,string):\n",
    "            print(\"accepted\")\n",
    "        else:\n",
    "            print (\"not accepted\")\n",
    "            "
   ]
  },
  {
   "cell_type": "code",
   "execution_count": null,
   "metadata": {},
   "outputs": [],
   "source": []
  }
 ],
 "metadata": {
  "kernelspec": {
   "display_name": "Python 3",
   "language": "python",
   "name": "python3"
  },
  "language_info": {
   "codemirror_mode": {
    "name": "ipython",
    "version": 3
   },
   "file_extension": ".py",
   "mimetype": "text/x-python",
   "name": "python",
   "nbconvert_exporter": "python",
   "pygments_lexer": "ipython3",
   "version": "3.7.4"
  }
 },
 "nbformat": 4,
 "nbformat_minor": 2
}
