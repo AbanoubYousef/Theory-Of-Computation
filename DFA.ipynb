{
 "cells": [
  {
   "cell_type": "code",
   "execution_count": 39,
   "metadata": {},
   "outputs": [
    {
     "name": "stdout",
     "output_type": "stream",
     "text": [
      "ACCEPTED\n"
     ]
    }
   ],
   "source": [
    "# L = {a ^ n b ^ m (n)mod 2 = 0, m>= 1 }\n",
    "def start_state(q):\n",
    "    if (q == 'a'):\n",
    "        dfa = 1\n",
    "    elif (q == 'b'):\n",
    "        dfa = 3\n",
    "    else:\n",
    "        dfa = -1\n",
    "    return dfa\n",
    "\n",
    "def state_1(q):\n",
    "    if (q == 'a'):\n",
    "        dfa = 2\n",
    "    elif (q == 'b'):\n",
    "        dfa = 4\n",
    "    else:\n",
    "        dfa = -1\n",
    "    return dfa\n",
    "\n",
    "def state_2(q):\n",
    "    if (q == 'b'):\n",
    "        dfa = 3\n",
    "    elif (q == 'a'):\n",
    "        dfa = 1\n",
    "    else:\n",
    "        dfa = -1\n",
    "    return dfa\n",
    "\n",
    "def state_3(q):\n",
    "    if (q == 'b'):\n",
    "        dfa = 3\n",
    "    elif (q == 'a'):\n",
    "        dfa = 4\n",
    "    else:\n",
    "        dfa = -1\n",
    "    return dfa\n",
    "\n",
    "def state_4(q):\n",
    "    dfa = -1\n",
    "    return dfa\n",
    "\n",
    "def Check_Accepted(regex):\n",
    "    regex_length = len(regex)\n",
    "    dfa = 0\n",
    "    for x in range(regex_length):\n",
    "        if (dfa == 0):\n",
    "            dfa = start_state(regex[x])\n",
    "\n",
    "        elif (dfa == 1):\n",
    "            dfa = state_1(regex[x])\n",
    "\n",
    "        elif (dfa == 2):\n",
    "            dfa = state_2(regex[x])\n",
    "\n",
    "        elif (dfa == 3):\n",
    "            dfa = state_3(regex[x])\n",
    "\n",
    "        elif (dfa == 4):\n",
    "            dfa = state_4(regex[x])\n",
    "        else:\n",
    "            return 0\n",
    "    if (dfa == 3):\n",
    "        return 1\n",
    "    else:\n",
    "        return 0\n",
    "\n",
    "\n",
    "regexp = \"aaaabbbb\"\n",
    "if (Check_Accepted(regexp)):\n",
    "    print(\"ACCEPTED\")\n",
    "else:\n",
    "    print(\"NOT ACCEPTED\")\n"
   ]
  },
  {
   "cell_type": "code",
   "execution_count": 57,
   "metadata": {},
   "outputs": [
    {
     "name": "stdout",
     "output_type": "stream",
     "text": [
      "Yes\n"
     ]
    }
   ],
   "source": [
    "# Python3 program for the above approach\n",
    "\n",
    "# Function to find whether the given\n",
    "# is Accepted by the DFA\n",
    "def DFA(str, N):\n",
    "\n",
    "\tif (N <= 1):\n",
    "\t\tprint(\"No\")\n",
    "\t\treturn\n",
    "\n",
    "\tcount = 0\n",
    "\n",
    "\t# Check if the first character is C\n",
    "\tif (str[0] == 'C'):\n",
    "\t\tcount += 1\n",
    "\n",
    "\t\t# Traverse the rest of string\n",
    "\t\tfor i in range(1, N):\n",
    "\n",
    "\t\t\t# If character is A or B,\n",
    "\t\t\t# increment count by 1\n",
    "\t\t\tif (str[i] == 'A' or str[i] == 'B'):\n",
    "\t\t\t\tcount += 1\n",
    "\t\t\telse:\n",
    "\t\t\t\tbreak\n",
    "\telse:\n",
    "\t\t# If the first character\n",
    "\t\t# is not C, pr-1\n",
    "\t\tprint(\"No\")\n",
    "\t\treturn\n",
    "\n",
    "\t# If all characters matches\n",
    "\tif (count == N):\n",
    "\t\tprint(\"Yes\")\n",
    "\telse:\n",
    "\t\tprint(\"No\")\n",
    "\n",
    "# Driver Code\n",
    "if __name__ == '__main__':\n",
    "\tstr = \"CAABBAAB\"\n",
    "\tN = len(str)\n",
    "\tDFA(str, N)\n",
    "\n",
    "# This code is contributed by mohit kumar 29.\n"
   ]
  },
  {
   "cell_type": "code",
   "execution_count": null,
   "metadata": {},
   "outputs": [],
   "source": []
  },
  {
   "cell_type": "code",
   "execution_count": null,
   "metadata": {},
   "outputs": [],
   "source": []
  },
  {
   "cell_type": "code",
   "execution_count": null,
   "metadata": {},
   "outputs": [],
   "source": []
  }
 ],
 "metadata": {
  "kernelspec": {
   "display_name": "Python 3",
   "language": "python",
   "name": "python3"
  },
  "language_info": {
   "codemirror_mode": {
    "name": "ipython",
    "version": 3
   },
   "file_extension": ".py",
   "mimetype": "text/x-python",
   "name": "python",
   "nbconvert_exporter": "python",
   "pygments_lexer": "ipython3",
   "version": "3.7.4"
  }
 },
 "nbformat": 4,
 "nbformat_minor": 2
}
