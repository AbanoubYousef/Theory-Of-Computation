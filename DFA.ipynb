{
 "cells": [
  {
   "cell_type": "code",
   "execution_count": 1,
   "metadata": {},
   "outputs": [
    {
     "name": "stdout",
     "output_type": "stream",
     "text": [
      "ACCEPTED\n"
     ]
    }
   ],
   "source": [
    "# L = {a ^ n b ^ m (n)mod 2 = 0, m>= 1 }\n",
    "def start_state(q):\n",
    "    if (q == 'a'):\n",
    "        dfa = 1\n",
    "    elif (q == 'b'):\n",
    "        dfa = 3\n",
    "    else:\n",
    "        dfa = -1\n",
    "    return dfa\n",
    "\n",
    "def state_1(q):\n",
    "    if (q == 'a'):\n",
    "        dfa = 2\n",
    "    elif (q == 'b'):\n",
    "        dfa = 4\n",
    "    else:\n",
    "        dfa = -1\n",
    "    return dfa\n",
    "\n",
    "def state_2(q):\n",
    "    if (q == 'b'):\n",
    "        dfa = 3\n",
    "    elif (q == 'a'):\n",
    "        dfa = 1\n",
    "    else:\n",
    "        dfa = -1\n",
    "    return dfa\n",
    "\n",
    "def state_3(q):\n",
    "    if (q == 'b'):\n",
    "        dfa = 3\n",
    "    elif (q == 'a'):\n",
    "        dfa = 4\n",
    "    else:\n",
    "        dfa = -1\n",
    "    return dfa\n",
    "\n",
    "def state_4(q):\n",
    "    dfa = -1\n",
    "    return dfa\n",
    "\n",
    "def Check_Accepted(regex):\n",
    "    regex_length = len(regex)\n",
    "    dfa = 0\n",
    "    for x in range(regex_length):\n",
    "        if (dfa == 0):\n",
    "            dfa = start_state(regex[x])\n",
    "\n",
    "        elif (dfa == 1):\n",
    "            dfa = state_1(regex[x])\n",
    "\n",
    "        elif (dfa == 2):\n",
    "            dfa = state_2(regex[x])\n",
    "\n",
    "        elif (dfa == 3):\n",
    "            dfa = state_3(regex[x])\n",
    "\n",
    "        elif (dfa == 4):\n",
    "            dfa = state_4(regex[x])\n",
    "        else:\n",
    "            return 0\n",
    "    if (dfa == 3):\n",
    "        return 1\n",
    "    else:\n",
    "        return 0\n",
    "\n",
    "\n",
    "regexp = \"aaaabbbb\"\n",
    "if (Check_Accepted(regexp)):\n",
    "    print(\"ACCEPTED\")\n",
    "else:\n",
    "    print(\"NOT ACCEPTED\")\n"
   ]
  },
  {
   "cell_type": "code",
   "execution_count": 2,
   "metadata": {},
   "outputs": [
    {
     "name": "stdout",
     "output_type": "stream",
     "text": [
      "Yes\n"
     ]
    }
   ],
   "source": [
    "# Function to find whether the given is Accepted by the DFA\n",
    "def DFA(str, N):\n",
    "\n",
    "    if (N <= 1):\n",
    "        print(\"No\")\n",
    "        return\n",
    "\n",
    "    count = 0\n",
    "    if (str[0] == 'A'):\n",
    "        count += 1\n",
    "        for i in range(1, N):\n",
    "            if (str[i] == 'A' or str[i] == 'B'):\n",
    "                count += 1\n",
    "            else:\n",
    "                break\n",
    "                \n",
    "    else:\n",
    "        print(\"No\")\n",
    "        return\n",
    "\n",
    "# If all characters matches\n",
    "    if (count == N):\n",
    "        print(\"Yes\")\n",
    "    else:\n",
    "        print(\"No\")\n",
    "\n",
    "        \n",
    "if __name__ == '__main__':\n",
    "    str = \"AABBAA\"\n",
    "    N = len(str)\n",
    "    DFA(str, N)\n"
   ]
  },
  {
   "cell_type": "code",
   "execution_count": null,
   "metadata": {},
   "outputs": [],
   "source": []
  },
  {
   "cell_type": "code",
   "execution_count": null,
   "metadata": {},
   "outputs": [],
   "source": []
  },
  {
   "cell_type": "code",
   "execution_count": null,
   "metadata": {},
   "outputs": [],
   "source": []
  }
 ],
 "metadata": {
  "kernelspec": {
   "display_name": "Python 3",
   "language": "python",
   "name": "python3"
  },
  "language_info": {
   "codemirror_mode": {
    "name": "ipython",
    "version": 3
   },
   "file_extension": ".py",
   "mimetype": "text/x-python",
   "name": "python",
   "nbconvert_exporter": "python",
   "pygments_lexer": "ipython3",
   "version": "3.7.4"
  }
 },
 "nbformat": 4,
 "nbformat_minor": 2
}
